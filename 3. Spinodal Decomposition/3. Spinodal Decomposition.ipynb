{
 "cells": [
  {
   "cell_type": "markdown",
   "id": "46763963-5e7d-4a82-931c-97dc1a8bab33",
   "metadata": {},
   "source": [
    "# Phase-field simulation of spinodal decomposition\n",
    "\n",
    "[![Open In Colab](https://colab.research.google.com/assets/colab-badge.svg)](https://colab.research.google.com/github/MatSciEd/Thermodynamics/blob/main/3.%20Spinodal%20Decomposition/3.%20Spinodal%20Decomposition.ipynb)\n",
    "\n",
    "This notebook is based on the pystencils tutorial at https://pycodegen.pages.i10git.cs.fau.de/pystencils/notebooks/05_tutorial_phasefield_spinodal_decomposition.html.\n",
    "\n",
    "This simulation implement a simple phase field models using finite differences using pystencil.\n",
    "\n",
    "Phase field models evolve the mole fraction and chemical potentials of a material forward to describe how a system approaches thermodynamic equilibrium.\n",
    "\n",
    "The movie visualization requires that you install the FFMPEG tool on your computer, which is available at https://www.ffmpeg.org/download.html."
   ]
  },
  {
   "cell_type": "code",
   "execution_count": 2,
   "id": "be0d7967-ca3c-42b6-8f07-e316384aec9b",
   "metadata": {
    "tags": []
   },
   "outputs": [
    {
     "ename": "ModuleNotFoundError",
     "evalue": "No module named 'pystencils'",
     "output_type": "error",
     "traceback": [
      "\u001b[0;31m---------------------------------------------------------------------------\u001b[0m",
      "\u001b[0;31mModuleNotFoundError\u001b[0m                       Traceback (most recent call last)",
      "\u001b[0;32m/var/folders/4n/n4j1d7sd4bq5_h54mhjlkfy80000gp/T/ipykernel_85190/4207927243.py\u001b[0m in \u001b[0;36m<module>\u001b[0;34m\u001b[0m\n\u001b[1;32m      8\u001b[0m \u001b[0;34m\u001b[0m\u001b[0m\n\u001b[1;32m      9\u001b[0m \u001b[0;31m# Import pystencils package\u001b[0m\u001b[0;34m\u001b[0m\u001b[0;34m\u001b[0m\u001b[0;34m\u001b[0m\u001b[0m\n\u001b[0;32m---> 10\u001b[0;31m \u001b[0;32mimport\u001b[0m \u001b[0mpystencils\u001b[0m \u001b[0;32mas\u001b[0m \u001b[0mps\u001b[0m\u001b[0;34m\u001b[0m\u001b[0;34m\u001b[0m\u001b[0m\n\u001b[0m\u001b[1;32m     11\u001b[0m \u001b[0;32mfrom\u001b[0m \u001b[0mpystencils\u001b[0m\u001b[0;34m.\u001b[0m\u001b[0msession\u001b[0m \u001b[0;32mimport\u001b[0m \u001b[0;34m*\u001b[0m\u001b[0;34m\u001b[0m\u001b[0;34m\u001b[0m\u001b[0m\n\u001b[1;32m     12\u001b[0m \u001b[0;34m\u001b[0m\u001b[0m\n",
      "\u001b[0;31mModuleNotFoundError\u001b[0m: No module named 'pystencils'"
     ]
    }
   ],
   "source": [
    "# Import NumPy numerical package\n",
    "import numpy as np\n",
    "\n",
    "# Install pystencils package using pip in the current Jupyter kernel\n",
    "# To use pystencils, restart the kernel\n",
    "import sys\n",
    "!{sys.executable} -m pip install \"pystencils[interactive]\"\n",
    "\n",
    "# Import pystencils package\n",
    "from pystencils.session import *\n",
    "\n",
    "# Import matplotlib and set defaults\n",
    "import matplotlib.animation as animation\n",
    "plt.rcParams['figure.figsize'] = [16, 16]\n",
    "plt.rcParams.update({'font.size': 18})"
   ]
  },
  {
   "cell_type": "markdown",
   "id": "5243a6de-3925-4f1a-a8b8-f5c653c59c24",
   "metadata": {},
   "source": [
    "First we create a DataHandling instance, that manages the numpy arrays and their corresponding symbolic *sympy* fields. We create two arrays of size $256 \\times 256$, one for the concentration $c$ and one for the chemical potential $\\mu$, on a 2D periodic simulation box."
   ]
  },
  {
   "cell_type": "code",
   "execution_count": null,
   "id": "bd3376de-26e4-445d-95c1-16435faac371",
   "metadata": {},
   "outputs": [],
   "source": [
    "dh = ps.create_data_handling(domain_size=(256, 256), periodicity=True)\n",
    "μ_field = dh.add_array('mu', latex_name='μ')\n",
    "c_field = dh.add_array('c')"
   ]
  },
  {
   "cell_type": "markdown",
   "id": "494e7450-f761-4a05-b4f2-b0bf7df38847",
   "metadata": {},
   "source": [
    "Next we calculate the Gibbs free energy density, consisting of a bulk and an interface component. The bulk free energy is minimal in regions where only either phase 0 or phase 1 is present. Areas of mixture are penalized.\n",
    "\n",
    "The interfacial free energy penalized regions where the gradient of the phase field is large, i.e. it tends to smear out the interface. The strength of these counteracting contributions is balanced by the parameters \n",
    "$A$ or the bulk- and $\\kappa$ for the interface part. The ratio of these parameters determines the interface width."
   ]
  },
  {
   "cell_type": "code",
   "execution_count": null,
   "id": "fe4db500-ff62-434b-8891-0343d49e1171",
   "metadata": {},
   "outputs": [],
   "source": [
    "κ, A = sp.symbols(\"κ A\")\n",
    "\n",
    "c = c_field.center\n",
    "μ = μ_field.center\n",
    "\n",
    "def f(c):\n",
    "    return A * c**2 * (1-c)**2\n",
    "\n",
    "bulk_free_energy_density = f(c)\n",
    "grad_sq = sum(ps.fd.diff(c, i)**2 for i in range(dh.dim))\n",
    "interfacial_free_energy_density = κ/2 * grad_sq\n",
    "\n",
    "free_energy_density = bulk_free_energy_density + interfacial_free_energy_density\n",
    "free_energy_density"
   ]
  },
  {
   "cell_type": "markdown",
   "id": "82461637-52e5-4ccc-b388-a5e956670d46",
   "metadata": {},
   "source": [
    "The index of the concentration $c$ enumerates the discretized set of boxes for concentration field described by an array. This becomes important when we apply a finite difference discretization on the equation.\n",
    "\n",
    "We use the bulk free energy $c^2 (1-c)^2$ as it is the simplest polynomial with minima at $c=0$ and $c=1$."
   ]
  },
  {
   "cell_type": "code",
   "execution_count": null,
   "id": "419075f6-2d53-41ad-9361-62f837c08d72",
   "metadata": {},
   "outputs": [],
   "source": [
    "# Plot the model for the bulk Gibbs free energy\n",
    "plt.figure(figsize=(8,6))\n",
    "plt.sympy_function(bulk_free_energy_density.subs(A, 1), (-0.2, 1.2))\n",
    "plt.xlabel(\"c\")\n",
    "plt.title(\"Bulk Gibbs free energy\");"
   ]
  },
  {
   "cell_type": "markdown",
   "id": "3e00e28d-6f75-44d7-89b6-96c6165e6096",
   "metadata": {},
   "source": [
    "To minimize the total free energy we use the diffusion or Cahn Hilliard equation\n",
    "$$\n",
    "\\frac{\\partial c}{\\partial t} = \\nabla \\cdot \\left( M \\nabla \\frac{\\delta G}{\\delta c} \\right),\n",
    "$$\n",
    "where the functional derivative $\\delta G / \\delta c$ is the chemical potential $\\mu$. The functional derivative $\\delta G /  \\delta c$ is computed as\n",
    "$$\n",
    "\\frac{\\delta G}{\\delta c} = \\frac{\\partial G}{\\partial c} - \\nabla \\cdot \\frac{\\partial G}{\\partial \\nabla c}.\n",
    "$$\n",
    "That means we treat the gradient of the concentration $\\nabla c$ like a normal variable when calculating derivatives. The Python package pystencils offers a function to do just that."
   ]
  },
  {
   "cell_type": "code",
   "execution_count": null,
   "id": "0acb92ec-5e9f-4904-aee5-8d5a9b6baf71",
   "metadata": {},
   "outputs": [],
   "source": [
    "ps.fd.functional_derivative(free_energy_density, c)"
   ]
  },
  {
   "cell_type": "markdown",
   "id": "25f676f1-2d79-4381-b44e-2177e5cf1d69",
   "metadata": {},
   "source": [
    "In this case we could quite simply do this derivative by hand but for more complex phase field models this step is quite tedious. If we discretize this term using finite differences, we have a computation rule how to compute the chemical potential $\\mu$ from the free energy."
   ]
  },
  {
   "cell_type": "code",
   "execution_count": null,
   "id": "c3c8c23b-9a04-4f37-8f32-38953cf2b207",
   "metadata": {},
   "outputs": [],
   "source": [
    "discretize = ps.fd.Discretization2ndOrder(dx=1, dt=0.01)\n",
    "\n",
    "μ_update_eq = ps.fd.functional_derivative(free_energy_density, c)\n",
    "μ_update_eq = ps.fd.expand_diff_linear(μ_update_eq, constants=[κ])  # pull constant κ in front of the derivatives\n",
    "μ_update_eq_discretized = discretize(μ_update_eq)\n",
    "μ_update_eq_discretized"
   ]
  },
  {
   "cell_type": "markdown",
   "id": "3a9155b5-6b7d-42f6-8917-853e71040ffc",
   "metadata": {},
   "source": [
    "Pystencils computes the finite difference approximation for us. This was only possible since all symbols occuring inside derivatives are pystencils field variables, so that neighboring values can be accessed. Next we bake this formula into a kernel that writes the chemical potential to a field. Therefor we first insert the $\\kappa$ and $A$ parameters, build an assignment out of it, and compile the kernel"
   ]
  },
  {
   "cell_type": "code",
   "execution_count": null,
   "id": "482e5d16-3864-41c3-8cb4-2e196e76095f",
   "metadata": {},
   "outputs": [],
   "source": [
    "μ_kernel = ps.create_kernel([ps.Assignment(μ_field.center,\n",
    "                                           μ_update_eq_discretized.subs(A, 1).subs(κ, 0.5))]\n",
    "                           ).compile()"
   ]
  },
  {
   "cell_type": "markdown",
   "id": "1712555c-f92b-4216-9db2-0f9a17cc570e",
   "metadata": {},
   "source": [
    "Next, we formulate the Cahn-Hilliard equation itself, which is just a diffusion equation."
   ]
  },
  {
   "cell_type": "code",
   "execution_count": null,
   "id": "47ae1c3e-57e8-42e9-a8ed-465e261632d2",
   "metadata": {},
   "outputs": [],
   "source": [
    "M = sp.Symbol(\"M\")\n",
    "cahn_hilliard = ps.fd.transient(c) - ps.fd.diffusion(μ, M)\n",
    "cahn_hilliard"
   ]
  },
  {
   "cell_type": "markdown",
   "id": "9ddb5f7b-15b4-4925-87e4-32c16a1ce619",
   "metadata": {},
   "source": [
    "It can be given right away to the `discretize` function, that by default uses a simple explicit Euler scheme for temporal, and second order finite differences for spatial discretization. It returns the update rule for the concentration field."
   ]
  },
  {
   "cell_type": "code",
   "execution_count": null,
   "id": "47cea96b-e188-4a90-a5c7-328f112e07de",
   "metadata": {},
   "outputs": [],
   "source": [
    "c_update = discretize(cahn_hilliard)\n",
    "c_update"
   ]
  },
  {
   "cell_type": "markdown",
   "id": "20b2e8ea-05b8-4dfe-a911-57a0adaca2bd",
   "metadata": {},
   "source": [
    "Pystencil uses kernels and we can build a kernel from this update rule:"
   ]
  },
  {
   "cell_type": "code",
   "execution_count": null,
   "id": "2d9bcec9-8b45-4dff-b93d-4927cd90fb64",
   "metadata": {},
   "outputs": [],
   "source": [
    "c_kernel = ps.create_kernel([ps.Assignment(c_field.center,\n",
    "                                           c_update.subs(M, 1))]\n",
    "                           ).compile()"
   ]
  },
  {
   "cell_type": "markdown",
   "id": "2ca50090-a72a-498c-ad8b-82c6ed18427b",
   "metadata": {
    "tags": []
   },
   "source": [
    "Before we run the simulation, the domain has to be initialized. To access a numpy array inside a data handling we have to iterate over the data handling. This somewhat complicated way is necessary to be able to switch to distributed memory parallel simulations without having to alter the code. Basically this loops says “iterate over the portion of the domain that belongs to my process”, which in our serial case here is just the full domain.\n",
    "\n",
    "We initialize everything with $c = 0.4$ and add some random noise on top of it."
   ]
  },
  {
   "cell_type": "code",
   "execution_count": null,
   "id": "395544b9-f092-43bb-9b09-7b8863de1e0e",
   "metadata": {},
   "outputs": [],
   "source": [
    "def init(value=0.4, noise=0.02):\n",
    "    for b in dh.iterate():\n",
    "        b['c'].fill(value)\n",
    "        np.add(b['c'], noise*np.random.rand(*b['c'].shape), out=b['c'])"
   ]
  },
  {
   "cell_type": "markdown",
   "id": "036ecf01-34ee-432d-9bce-d68cef3527a7",
   "metadata": {},
   "source": [
    "The time loop of the simulation is straightforward. We call the kernels to update the chemical potential and the concentration in alternating fashion. In between we have to do synchronization steps for the fields that take care of the periodic boundary condition, and in the parallel case of the communciation between processes."
   ]
  },
  {
   "cell_type": "code",
   "execution_count": null,
   "id": "bb88ffce-8e36-43d3-ac9a-4b50f5d7d6ad",
   "metadata": {},
   "outputs": [],
   "source": [
    "def timeloop(steps=20):\n",
    "    c_sync = dh.synchronization_function(['c'])\n",
    "    μ_sync = dh.synchronization_function(['mu'])\n",
    "    c1 = dh.gather_array('c')\n",
    "    for t in range(steps):\n",
    "        c_sync()\n",
    "        dh.run_kernel(μ_kernel)\n",
    "        μ_sync()\n",
    "        dh.run_kernel(c_kernel)\n",
    "    return c1\n",
    "init()"
   ]
  },
  {
   "cell_type": "markdown",
   "id": "9754ab05-1010-4219-b5ef-c19faea5f9a8",
   "metadata": {},
   "source": [
    "Now we can run the simulation and see how the the spinodal transformation leads to an increase of concentration fluctuations and to phases separation."
   ]
  },
  {
   "cell_type": "code",
   "execution_count": null,
   "id": "14d11881-c397-4c19-923f-d81708df3aaa",
   "metadata": {
    "tags": []
   },
   "outputs": [],
   "source": [
    "ani = ps.plot.scalar_field_animation(timeloop, rescale=True, interval=1, frames=1000)\n",
    "FFwriter = animation.FFMpegWriter()\n",
    "#ani.save(\"animation.mp4\", fps = 50, extra_args = ['-vcodec', 'libx264'])\n",
    "\n",
    "result = ps.jupyter.display_as_html_video(ani)\n",
    "result"
   ]
  },
  {
   "cell_type": "code",
   "execution_count": null,
   "id": "f5ca4af0-980e-4ef8-be01-2ee1004888ac",
   "metadata": {},
   "outputs": [],
   "source": []
  }
 ],
 "metadata": {
  "kernelspec": {
   "display_name": "Python 3 (ipykernel)",
   "language": "python",
   "name": "python3"
  },
  "language_info": {
   "codemirror_mode": {
    "name": "ipython",
    "version": 3
   },
   "file_extension": ".py",
   "mimetype": "text/x-python",
   "name": "python",
   "nbconvert_exporter": "python",
   "pygments_lexer": "ipython3",
   "version": "3.8.12"
  }
 },
 "nbformat": 4,
 "nbformat_minor": 5
}
