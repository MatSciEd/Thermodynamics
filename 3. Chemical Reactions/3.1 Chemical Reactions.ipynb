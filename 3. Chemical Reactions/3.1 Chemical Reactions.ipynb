{
 "cells": [
  {
   "cell_type": "code",
   "execution_count": 1,
   "metadata": {
    "slideshow": {
     "slide_type": "slide"
    }
   },
   "outputs": [
    {
     "name": "stdout",
     "output_type": "stream",
     "text": [
      "Requirement already satisfied: pint in /Users/rhennig/opt/anaconda3/lib/python3.8/site-packages (0.17)\n",
      "Requirement already satisfied: packaging in /Users/rhennig/opt/anaconda3/lib/python3.8/site-packages (from pint) (20.9)\n",
      "Requirement already satisfied: pyparsing>=2.0.2 in /Users/rhennig/opt/anaconda3/lib/python3.8/site-packages (from packaging->pint) (2.4.7)\n",
      "Populating the interactive namespace from numpy and matplotlib\n"
     ]
    }
   ],
   "source": [
    "# Import NumPy numerical package\n",
    "import numpy as np\n",
    "old = np.seterr(invalid='ignore')\n",
    "\n",
    "# Import SciPy\n",
    "import scipy as scipy\n",
    "from scipy.optimize import fsolve, newton\n",
    "\n",
    "# Enable displaying of math output such as display(Math(r'Area: {}m^2 \\\\ Volume: {}m^3'.format(a, round(b,2), A, V)))\n",
    "from IPython.display import display, Math\n",
    "\n",
    "# Install the pint package using pip in the current Jupyter kernel\n",
    "# To use pint, restart the kernel\n",
    "import sys\n",
    "!{sys.executable} -m pip install pint\n",
    "\n",
    "# Disable Pint's old fallback behavior (must come before importing Pint)\n",
    "import os\n",
    "os.environ['PINT_ARRAY_PROTOCOL_FALLBACK'] = \"0\"\n",
    "\n",
    "# Import Pint for units in Python\n",
    "from pint import UnitRegistry\n",
    "u = UnitRegistry(auto_reduce_dimensions=True)\n",
    "Q_ = u.Quantity\n",
    "u.default_format = 'P'\n",
    "\n",
    "# plotting package\n",
    "import matplotlib.pyplot as plt\n",
    "%pylab inline\n",
    "\n",
    "import matplotlib\n",
    "matplotlib.rcParams.update({'font.size': 24, 'text.usetex': False})"
   ]
  },
  {
   "cell_type": "markdown",
   "metadata": {
    "slideshow": {
     "slide_type": "skip"
    }
   },
   "source": [
    "# Slideshow\n",
    "\n",
    "Run the next cell or run this command in a terminal window: \n",
    "\n",
    "```bash\n",
    "jupyter nbconvert \"Chapter 11 - Chemical Reactions and Richardson Ellingham Diagrams.ipynb\" --to slides --post serve\n",
    "```"
   ]
  },
  {
   "cell_type": "code",
   "execution_count": 2,
   "metadata": {
    "slideshow": {
     "slide_type": "skip"
    },
    "tags": []
   },
   "outputs": [],
   "source": [
    "# !jupyter nbconvert \"Chapter 11 - Chemical Reactions and Richardson Ellingham Diagrams.ipynb\" --to slides --post serve"
   ]
  },
  {
   "cell_type": "markdown",
   "metadata": {
    "slideshow": {
     "slide_type": "slide"
    },
    "tags": []
   },
   "source": [
    "# 11. Thermodynamics of Chemical Reactions"
   ]
  },
  {
   "cell_type": "markdown",
   "metadata": {
    "slideshow": {
     "slide_type": "slide"
    },
    "tags": []
   },
   "source": [
    "Outline of the chapter:\n",
    "\n",
    "* Independent Chemical Reactions\n",
    "* Reaction Equilibrium \n",
    "* Mass Constraints\n",
    "* Affinity of Reactions\n",
    "* Examples\n",
    "\n",
    "The treatment here (and examples) are based on DeHoff's [Thermodynamics in Materials Science][dehoff].\n",
    "\n",
    "[dehoff]:https://www.amazon.com/Thermodynamics-Materials-Science-Second-Robert/dp/0849340659"
   ]
  },
  {
   "cell_type": "markdown",
   "metadata": {
    "slideshow": {
     "slide_type": "slide"
    }
   },
   "source": [
    "## Molecules, Compounds, and Chemical Reactions"
   ]
  },
  {
   "cell_type": "markdown",
   "metadata": {
    "slideshow": {
     "slide_type": "fragment"
    }
   },
   "source": [
    "A chemical reaction is a rearrangement of the atoms in the system and can be succinctly expressed, for example, by:\n",
    "\n",
    "$$\n",
    "\\mathrm{C} + \\mathrm{O_2} \\rightleftharpoons \\mathrm{CO_2}\n",
    "$$\n",
    "\n",
    "and\n",
    "\n",
    "$$\n",
    "\\mathrm{2H_2} + \\mathrm{O_2} \\rightleftharpoons \\mathrm{2H_2O}\n",
    "$$"
   ]
  },
  {
   "cell_type": "markdown",
   "metadata": {
    "slideshow": {
     "slide_type": "fragment"
    }
   },
   "source": [
    "* Chemical reactions are statements of mass and charge balance.\n",
    "* The coefficients may be divided or multiplied by any constant value without loss of generality.\n",
    "* One may think of these coefficients as molar quantities."
   ]
  },
  {
   "cell_type": "markdown",
   "metadata": {
    "slideshow": {
     "slide_type": "slide"
    }
   },
   "source": [
    "$\\require{mhchem}$ The concept of degrees of freedom can be used in the study of chemical reactions.  We define:\n",
    "\n",
    "* $E$ is the number of elements ($\\ce{H, O}$, etc.)\n",
    "* $C$ is the number of components ($\\ce{H2, O2, H2O}$)\n",
    "* $R$ is the number of possible reactions (degrees of freedom)\n",
    "\n",
    "$$\n",
    "R = C - E\n",
    "$$"
   ]
  },
  {
   "cell_type": "markdown",
   "metadata": {
    "slideshow": {
     "slide_type": "fragment"
    }
   },
   "source": [
    "For a system containing C and O $(E=2)$ and contains molecular species $\\mathrm{O_2}$, $\\mathrm{CO_2}$, and $\\mathrm{CO}$ $(C=3)$ we have a single independent reaction $(R = 3 - 2 = 1)$:\n",
    "\n",
    "$$\n",
    "\\mathrm{2CO} + \\mathrm{O_2} \\rightleftharpoons \\mathrm{2CO_2}\n",
    "$$"
   ]
  },
  {
   "cell_type": "markdown",
   "metadata": {
    "slideshow": {
     "slide_type": "fragment"
    }
   },
   "source": [
    "If the system also contains $\\mathrm{C}$ as a chemical component then we can write two independent reactions:\n",
    "\n",
    "$$\n",
    "\\mathrm{C} + \\mathrm{O_2} \\rightleftharpoons \\mathrm{CO_2}\n",
    "$$\n",
    "\n",
    "$$\n",
    "\\mathrm{2C} + \\mathrm{O_2} \\rightleftharpoons \\mathrm{2CO}\n",
    "$$\n",
    "\n",
    "These are referred to as _multivariant_ interacting systems."
   ]
  },
  {
   "cell_type": "markdown",
   "metadata": {
    "slideshow": {
     "slide_type": "slide"
    }
   },
   "source": [
    "## Reaction Equilibrium"
   ]
  },
  {
   "cell_type": "markdown",
   "metadata": {
    "slideshow": {
     "slide_type": "fragment"
    }
   },
   "source": [
    "We will now derive the thermodynamic equibrium of the following reaction using an isolated system:\n",
    "\n",
    "$$\n",
    "\\mathrm{2CO} + \\mathrm{O_2} \\rightleftharpoons \\mathrm{2CO_2}\n",
    "$$"
   ]
  },
  {
   "cell_type": "markdown",
   "metadata": {
    "slideshow": {
     "slide_type": "subslide"
    }
   },
   "source": [
    "To describe the equilibrium, we use the combination of the first and second law of thermodynamics,\n",
    "\n",
    "$$\n",
    "dU = \\delta Q + \\delta W.\n",
    "$$"
   ]
  },
  {
   "cell_type": "markdown",
   "metadata": {
    "slideshow": {
     "slide_type": "fragment"
    }
   },
   "source": [
    "Assuming a reversible process, we use\n",
    "$$\n",
    "\\delta Q = T dS\n",
    "$$\n",
    "and\n",
    "$$\n",
    "\\delta W = -p dV\n",
    "$$"
   ]
  },
  {
   "cell_type": "markdown",
   "metadata": {
    "slideshow": {
     "slide_type": "fragment"
    }
   },
   "source": [
    "giving\n",
    "\n",
    "$$\n",
    "dU = TdS - p dV.\n",
    "$$"
   ]
  },
  {
   "cell_type": "markdown",
   "metadata": {
    "slideshow": {
     "slide_type": "slide"
    }
   },
   "source": [
    "If the system is multicomponent and single phase we can write:\n",
    "\n",
    "$$\n",
    "dU = T dS - p dV + \\sum_{k=1}^{c}{\\mu_k dn_k}\n",
    "$$"
   ]
  },
  {
   "cell_type": "markdown",
   "metadata": {
    "slideshow": {
     "slide_type": "fragment"
    }
   },
   "source": [
    "Explicitly in the components of our gaseous system we have:\n",
    "\n",
    "$$\n",
    "dS = \\frac{1}{T}dU + \\frac{P}{T}dV - \\frac{1}{T}[\\mu_\\mathrm{CO} dn_\\mathrm{CO} + \\mu_\\mathrm{O_2} dn_\\mathrm{O_2} + \\mu_\\mathrm{CO_2} dn_\\mathrm{CO_2}].\n",
    "$$"
   ]
  },
  {
   "cell_type": "markdown",
   "metadata": {
    "slideshow": {
     "slide_type": "fragment"
    }
   },
   "source": [
    "For an isolated, the energy and volume are conserved:\n",
    "\n",
    "$$\n",
    "dU = 0,\n",
    "$$\n",
    "\n",
    "$$\n",
    "dV = 0.\n",
    "$$"
   ]
  },
  {
   "cell_type": "markdown",
   "metadata": {
    "slideshow": {
     "slide_type": "fragment"
    }
   },
   "source": [
    "For an isolated system, the entropy is a maximum in equilibrium:\n",
    "\n",
    "$$\n",
    "dS_\\mathrm{iso} = 0.\n",
    "$$\n",
    "\n",
    "Hence,\n",
    "$$\n",
    "dS = - \\frac{1}{T}[\\mu_\\mathrm{CO} dn_\\mathrm{CO} + \\mu_\\mathrm{O_2} dn_\\mathrm{O_2} + \\mu_\\mathrm{CO_2} dn_\\mathrm{CO_2}].\n",
    "$$"
   ]
  },
  {
   "cell_type": "markdown",
   "metadata": {
    "slideshow": {
     "slide_type": "slide"
    }
   },
   "source": [
    "## Mass Constraints"
   ]
  },
  {
   "cell_type": "markdown",
   "metadata": {
    "slideshow": {
     "slide_type": "fragment"
    }
   },
   "source": [
    "Another constraint of an isolated system is that matter does not cross the boundary. If the system is non-reacting then the number of molecular species is constant:\n",
    "\n",
    "$$\n",
    "dn_k = 0 \\quad (k=1, 2, \\ldots, c).\n",
    "$$"
   ]
  },
  {
   "cell_type": "markdown",
   "metadata": {
    "slideshow": {
     "slide_type": "fragment"
    }
   },
   "source": [
    "However, in a reacting system this is not true:\n",
    "\n",
    "$$\n",
    "dn_k \\neq 0 \\quad (k=1, 2, \\ldots, c).\n",
    "$$"
   ]
  },
  {
   "cell_type": "markdown",
   "metadata": {
    "slideshow": {
     "slide_type": "slide"
    }
   },
   "source": [
    "However, in a reacting system, the number of atoms, $n_i$, of each species, $i$, _does_ remain constant:\n",
    "\n",
    "$$\n",
    "dn_i = 0 \\quad (i=1, 2, \\ldots, e).\n",
    "$$"
   ]
  },
  {
   "cell_type": "markdown",
   "metadata": {
    "slideshow": {
     "slide_type": "fragment"
    }
   },
   "source": [
    "Counting the total number of carbon and oxygen atoms in our hypothetical reaction:\n",
    "\n",
    "$$\n",
    "\\mathrm{2CO} + \\mathrm{O_2} \\rightleftharpoons \\mathrm{2CO_2}\n",
    "$$\n",
    "\n",
    "we get the following relations:\n",
    "\n",
    "$$\n",
    "n_\\mathrm{C} = n_\\mathrm{CO_2} + n_\\mathrm{CO}\n",
    "$$\n",
    "\n",
    "$$\n",
    "n_\\mathrm{O} = n_\\mathrm{CO} + 2n_\\mathrm{CO_2} + 2n_\\mathrm{O_2}.\n",
    "$$"
   ]
  },
  {
   "cell_type": "markdown",
   "metadata": {
    "slideshow": {
     "slide_type": "slide"
    }
   },
   "source": [
    "Enforcing the isolation constraints\n",
    "\n",
    "$$\n",
    "dn_\\mathrm{C} = dn_\\mathrm{O} = 0.\n",
    "$$\n"
   ]
  },
  {
   "cell_type": "markdown",
   "metadata": {
    "slideshow": {
     "slide_type": "fragment"
    }
   },
   "source": [
    "we obtain\n",
    "$$\n",
    "dn_\\mathrm{CO} = - dn_\\mathrm{CO_2}\n",
    "$$"
   ]
  },
  {
   "cell_type": "markdown",
   "metadata": {
    "slideshow": {
     "slide_type": "fragment"
    }
   },
   "source": [
    "and\n",
    "$$\n",
    "dn_\\mathrm{O_2} = - \\frac{1}{2}dn_\\mathrm{CO_2}\n",
    "$$"
   ]
  },
  {
   "cell_type": "markdown",
   "metadata": {
    "slideshow": {
     "slide_type": "fragment"
    }
   },
   "source": [
    "This result shows that for a system with one independent chemical reaction, the number of moles for only one component may be varied independently."
   ]
  },
  {
   "cell_type": "markdown",
   "metadata": {
    "slideshow": {
     "slide_type": "slide"
    }
   },
   "source": [
    "Revisiting the result for our combined first and second law for an isolated system,\n",
    "\n",
    "$$\n",
    "dS_{iso} = \\frac{1}{T}(0) + \\frac{P}{T}(0) - \\frac{1}{T} \\left[\\mu_\\mathrm{CO} dn_\\mathrm{CO} + \\mu_\\mathrm{O_2} dn_\\mathrm{O_2} + \\mu_\\mathrm{CO_2} dn_\\mathrm{CO_2} \\right],\n",
    "$$"
   ]
  },
  {
   "cell_type": "markdown",
   "metadata": {
    "slideshow": {
     "slide_type": "fragment"
    }
   },
   "source": [
    "we can now substitute our mass constraints and obtain\n",
    "\n",
    "$$\n",
    "dS_{iso} = \\frac{1}{T}(0) + \\frac{P}{T}(0) - \\frac{1}{T} \\left[ \\mu_\\mathrm{CO} (- dn_\\mathrm{CO_2}) + \\mu_\\mathrm{O_2} \\left(- \\frac{1}{2}dn_\\mathrm{CO_2} \\right) + \\mu_\\mathrm{CO_2} dn_\\mathrm{CO_2} \\right],\n",
    "$$"
   ]
  },
  {
   "cell_type": "markdown",
   "metadata": {
    "slideshow": {
     "slide_type": "slide"
    }
   },
   "source": [
    "which simplifies to\n",
    "\n",
    "$$\n",
    "dS_{iso} = \\frac{1}{T}(0) + \\frac{P}{T}(0) - \\frac{1}{T} \\underbrace{\\left[ \\mu_\\mathrm{CO_2} - \\left( \\mu_\\mathrm{CO} + \\frac{1}{2} \\mu_\\mathrm{O_2} \\right) \\right]}_{\\cal A} dn_\\mathrm{CO_2} \n",
    "$$"
   ]
  },
  {
   "cell_type": "markdown",
   "metadata": {
    "slideshow": {
     "slide_type": "fragment"
    }
   },
   "source": [
    "The terms in the brackets describes the chemical potentials of the product minus the chemical potential of the reactants. It is known as the affinity, $\\cal A$, of the reaction,\n",
    "\n",
    "$$\n",
    "\\mathcal{A} = \\left[ \\mu_{CO_2} - \\left( \\mu_{CO} + \\frac{1}{2} \\mu_{O_2} \\right) \\right].\n",
    "$$"
   ]
  },
  {
   "cell_type": "markdown",
   "metadata": {
    "slideshow": {
     "slide_type": "slide"
    }
   },
   "source": [
    "For our example reaction, we obtain for the change in entropy in an isolated system\n",
    "\n",
    "$$\n",
    "dS_{iso} = -\\frac{1}{T} \\, \\mathcal{A} \\, dn_{CO_2}.\n",
    "$$"
   ]
  },
  {
   "cell_type": "markdown",
   "metadata": {
    "slideshow": {
     "slide_type": "slide"
    }
   },
   "source": [
    "In general the affinity for a reaction is given by\n",
    "\n",
    "$$\n",
    "\\mathcal{A} = \\mu_{\\textrm{products}} - \\mu_{\\textrm{reactants}}.\n",
    "$$"
   ]
  },
  {
   "cell_type": "markdown",
   "metadata": {
    "slideshow": {
     "slide_type": "slide"
    }
   },
   "source": [
    "The equilibrium conditions for an isolated system dictates a maximum in the entropy with changes in the number of moles of $\\mathrm{CO_2}$. Therefore the equilibrium condition is\n",
    "\n",
    "$$\n",
    "\\mathcal{A} = 0\n",
    "$$"
   ]
  },
  {
   "cell_type": "markdown",
   "metadata": {
    "slideshow": {
     "slide_type": "slide"
    }
   },
   "source": [
    "# Affinity of Reactions"
   ]
  },
  {
   "cell_type": "markdown",
   "metadata": {
    "slideshow": {
     "slide_type": "slide"
    }
   },
   "source": [
    "Let's consider a more general chemical reaction\n",
    "\n",
    "$$\n",
    "l L + m M \\rightleftharpoons r R + s S.\n",
    "$$\n",
    "\n",
    "with the affinity\n",
    "\n",
    "$$\n",
    "\\mathcal{A} = (r \\mu_R + s \\mu_S) - (l \\mu_L + m \\mu_M).\n",
    "$$"
   ]
  },
  {
   "cell_type": "markdown",
   "metadata": {
    "slideshow": {
     "slide_type": "fragment"
    }
   },
   "source": [
    "It is usually not practical to measure the chemical potential, $\\mu_k$, of a component $k$.  Instead, we use the activity $a_k$ that we introduced earlier in the definition of the chemical potential\n",
    "\n",
    "$$\n",
    "\\mu_k - \\mu^\\circ_k = \\Delta \\mu_k \\equiv RT \\ln a_k\n",
    "$$"
   ]
  },
  {
   "cell_type": "markdown",
   "metadata": {
    "slideshow": {
     "slide_type": "fragment"
    }
   },
   "source": [
    "Remember that in an ideal solution, $a_k = X_k$.\n",
    "\n",
    "(this makes it a little clearer what the idea of \"activity\" really is)"
   ]
  },
  {
   "cell_type": "markdown",
   "metadata": {
    "slideshow": {
     "slide_type": "fragment"
    }
   },
   "source": [
    "If the solution is non-ideal, the activity differs from the mole fraction by a factor called the activity coefficient, $\\gamma_k$,\n",
    "\n",
    "$$\n",
    "a_k = \\gamma_k X_k.\n",
    "$$\n",
    "\n",
    "The concept of activity is a way of capturing the idea that a component \"acts as if\" a certain amount was present relative to an ideal solution (situation)."
   ]
  },
  {
   "cell_type": "markdown",
   "metadata": {
    "slideshow": {
     "slide_type": "slide"
    }
   },
   "source": [
    "In the definition of activity,\n",
    "\n",
    "$$\n",
    "\\mu_k = \\mu_k^\\circ + RT \\ln a_k = G_k^\\circ + RT \\ln a_k,\n",
    "$$\n",
    "\n",
    "$G^\\circ$ is the Gibbs free energy per mol of component $k$ in the standard/reference state."
   ]
  },
  {
   "cell_type": "markdown",
   "metadata": {
    "slideshow": {
     "slide_type": "slide"
    }
   },
   "source": [
    "Using this equation for the affinity , $\\cal A$, we obtain\n",
    "\n",
    "$$\n",
    "\\mathcal{A} = (r \\mu_R + s \\mu_S) - (l \\mu_L + m \\mu_M)\n",
    "$$\n",
    "\n",
    "$$\n",
    "\\mathcal{A} = \\underbrace{\\left[ (r G^\\circ_R + s G^\\circ_S) - (l G^\\circ_L + m G^\\circ_M) \\right]}_{\\Delta G^\\circ} + RT \\ln \\frac{a^r_R a^s_S}{a^l_L a^m_M}\n",
    "$$"
   ]
  },
  {
   "cell_type": "markdown",
   "metadata": {
    "slideshow": {
     "slide_type": "slide"
    }
   },
   "source": [
    "The term $\\Delta G^\\circ$ is generally referred to as the _the standard Gibbs free energy change_,\n",
    "\n",
    "$$\n",
    "\\Delta G^\\circ \\equiv \\left[ (r G^\\circ_R + s G^\\circ_S) - (l G^\\circ_L + m G^\\circ_M) \\right].\n",
    "$$"
   ]
  },
  {
   "cell_type": "markdown",
   "metadata": {
    "slideshow": {
     "slide_type": "fragment"
    }
   },
   "source": [
    "The affinity is now defined as follows, in general:\n",
    "\n",
    "$$\n",
    "\\mathcal{A} = \\Delta G^\\circ + RT \\ln Q,\n",
    "$$\n",
    "\n",
    "where Q is the quotient of the activities of the products and reactants:\n",
    "\n",
    "$$\n",
    "Q \\equiv \\frac{a^r_R a^s_S}{a^l_L a^m_M}.\n",
    "$$\n",
    "\n",
    "In equilibrium, we obtain:\n",
    "\n",
    "$$\n",
    "K \\equiv Q_{\\mathrm{equil.}} = \\left[ \\frac{a^r_R a^s_S}{a^l_L a^m_M} \\right]_{\\mathrm{equil}}\n",
    "$$\n",
    "\n",
    "with\n",
    "\n",
    "$$\n",
    "\\mathcal{A} = 0 = \\Delta G^\\circ + RT \\ln K.\n",
    "$$"
   ]
  },
  {
   "cell_type": "markdown",
   "metadata": {
    "slideshow": {
     "slide_type": "slide"
    }
   },
   "source": [
    "The _equilibrium constant_, $K$, is given by the the standard Gibbs free energy change,\n",
    "\n",
    "$$\n",
    "K = \\exp\\left ( -\\frac{\\Delta G^\\circ}{RT} \\right ).\n",
    "$$"
   ]
  },
  {
   "cell_type": "markdown",
   "metadata": {
    "slideshow": {
     "slide_type": "slide"
    }
   },
   "source": [
    "Now we can inspect the affinity of the reacting system (based on the instantaneous number of moles) and identify the following conditions:\n",
    "\n",
    "$$\n",
    "\\begin{eqnarray}\n",
    "{Q/K} &>& 1 \\quad \\Rightarrow \\quad \\mathcal{A} &>& 0, \\quad \\textrm{products decompose}\\\\\n",
    "{Q/K} &=& 1 \\quad \\Rightarrow \\quad \\mathcal{A} &=& 0, \\quad \\textrm{equilibrium}\\\\\n",
    "{Q/K} &<& 1 \\quad \\Rightarrow \\quad \\mathcal{A} &<& 0, \\quad \\textrm{products form}\\\\\n",
    "\\end{eqnarray}\n",
    "$$"
   ]
  },
  {
   "cell_type": "markdown",
   "metadata": {
    "slideshow": {
     "slide_type": "slide"
    }
   },
   "source": [
    "## Example 1 (DeHoff 11.1)"
   ]
  },
  {
   "cell_type": "markdown",
   "metadata": {
    "slideshow": {
     "slide_type": "fragment"
    }
   },
   "source": [
    "**Problem:** A gas mixture at 1 atm total pressure and at the temperature 700˚C has the following composition:\n",
    "\n",
    "|Component|H$_2$|O$_2$|H$_2$O|\n",
    "|------|------|------|------|\n",
    "|Mole Fraction  |0.01  |0.03  |0.96|\n",
    "\n",
    "At 700˚C the standard Gibbs free energy change for the reaction is:\n",
    "\n",
    "$$\n",
    "\\Delta G^\\circ = -440 \\, \\mathrm{kJ/mol}\n",
    "$$\n",
    "\n",
    "Determine the direction of spontaneous change for this reaction at 700˚C."
   ]
  },
  {
   "cell_type": "markdown",
   "metadata": {
    "slideshow": {
     "slide_type": "fragment"
    }
   },
   "source": [
    "**Solution:**\n",
    "$\\require{mhchem}$The single reaction ($R = C - E = 3 - 2 = 1$) reaction for our system is:\n",
    "\n",
    "$$\n",
    "\\ce{2H2 + O2 \\rightleftharpoons H2O}\n",
    "$$"
   ]
  },
  {
   "cell_type": "markdown",
   "metadata": {
    "slideshow": {
     "slide_type": "slide"
    }
   },
   "source": [
    "We compute the equilibrium constant, $K$,"
   ]
  },
  {
   "cell_type": "markdown",
   "metadata": {
    "slideshow": {
     "slide_type": "fragment"
    }
   },
   "source": [
    "$K = \\exp{(- \\Delta G^\\circ / RT)}$"
   ]
  },
  {
   "cell_type": "code",
   "execution_count": 3,
   "metadata": {
    "slideshow": {
     "slide_type": "fragment"
    },
    "tags": []
   },
   "outputs": [],
   "source": [
    "GibbsChange = -440 * u.kJ/u.mol\n",
    "R = 8.314 * u.J/u.mol/u.K\n",
    "T = (Q_(700, u.degC)).to(u.K)"
   ]
  },
  {
   "cell_type": "code",
   "execution_count": 4,
   "metadata": {
    "collapsed": false,
    "jupyter": {
     "outputs_hidden": false
    },
    "slideshow": {
     "slide_type": "fragment"
    }
   },
   "outputs": [
    {
     "name": "stdout",
     "output_type": "stream",
     "text": [
      "Equilibrium constant K =  4.151651805707335×10²³ dimensionless\n"
     ]
    }
   ],
   "source": [
    "K = np.exp(-GibbsChange/(R*T))\n",
    "print(\"Equilibrium constant K = \", K)"
   ]
  },
  {
   "cell_type": "markdown",
   "metadata": {
    "slideshow": {
     "slide_type": "slide"
    },
    "tags": []
   },
   "source": [
    "Next, we compute the quotient of the activities, $Q$, (not at equilibrium),\n",
    "\n",
    "$$\n",
    "Q = \\frac{X^2_{H_2O}}{X^2_{H_2} X_{O_2}}\n",
    "$$"
   ]
  },
  {
   "cell_type": "code",
   "execution_count": 5,
   "metadata": {
    "slideshow": {
     "slide_type": "fragment"
    },
    "tags": []
   },
   "outputs": [],
   "source": [
    "X_H2O = 0.96\n",
    "X_H2  = 0.01\n",
    "X_O2  = 0.03"
   ]
  },
  {
   "cell_type": "code",
   "execution_count": 6,
   "metadata": {
    "collapsed": false,
    "jupyter": {
     "outputs_hidden": false
    },
    "slideshow": {
     "slide_type": "fragment"
    }
   },
   "outputs": [
    {
     "name": "stdout",
     "output_type": "stream",
     "text": [
      "Q =  307200.0\n"
     ]
    }
   ],
   "source": [
    "Q = X_H2O**2/(X_H2**2 * X_O2)\n",
    "print(\"Q = \", Q)"
   ]
  },
  {
   "cell_type": "code",
   "execution_count": 7,
   "metadata": {
    "collapsed": false,
    "jupyter": {
     "outputs_hidden": false
    },
    "slideshow": {
     "slide_type": "slide"
    }
   },
   "outputs": [
    {
     "name": "stdout",
     "output_type": "stream",
     "text": [
      "Q/K =  7.399464463221308×10⁻¹⁹ dimensionless\n"
     ]
    }
   ],
   "source": [
    "print(\"Q/K = \", Q/K)"
   ]
  },
  {
   "cell_type": "markdown",
   "metadata": {
    "slideshow": {
     "slide_type": "fragment"
    }
   },
   "source": [
    "This number is much less than one, meaning that there is a strong tendency for products to form from this system in the current state.\n",
    "\n",
    "$\\Delta G^\\circ$ typically ranges from +1000 to $-1000$ kJ/mol, hence, $K$ ranges over many orders of magnitude. Thus, $Q$, usually differs by many orders of magnitude from $K$ and it is easy to determine the direction of the reaction."
   ]
  },
  {
   "cell_type": "markdown",
   "metadata": {
    "slideshow": {
     "slide_type": "fragment"
    }
   },
   "source": [
    "## Example 2 (DeHoff 11.1)\n",
    "\n",
    "**Problem:** What will be the equilibrium composition for this system at 700˚C (973K)?"
   ]
  },
  {
   "cell_type": "markdown",
   "metadata": {
    "slideshow": {
     "slide_type": "fragment"
    }
   },
   "source": [
    "**Solution:**\n",
    "In equilibrium\n",
    "\n",
    "$$\n",
    "K = Q_\\mathrm{equil} = \\frac{X^2_{H_2O}}{X^2_{H_2} X_{O_2}}\n",
    "$$"
   ]
  },
  {
   "cell_type": "code",
   "execution_count": 8,
   "metadata": {
    "slideshow": {
     "slide_type": "fragment"
    }
   },
   "outputs": [
    {
     "name": "stdout",
     "output_type": "stream",
     "text": [
      "Equilibrium constant K =  4.151651805707335×10²³ dimensionless\n"
     ]
    }
   ],
   "source": [
    "K = np.exp(-GibbsChange/(R*T))\n",
    "print(\"Equilibrium constant K = \", K)"
   ]
  },
  {
   "cell_type": "markdown",
   "metadata": {
    "slideshow": {
     "slide_type": "fragment"
    }
   },
   "source": [
    "This means that in equilibrium, the numerator is 23 orders of magnitude larger than the denominator. The system will maximize the H$_2$O content. Almost all the H$_2$ will be consumed but not all O$_2$.\n",
    "\n",
    "Conversion of 0.01 mol of H$_2$ will only consume 0.005 mol of O$_2$ and 0.01 mol of H$_2$O will be produced. The total number of moles will be reduced from 1.0 to 0.97 + 0.025 = 0.995."
   ]
  },
  {
   "cell_type": "markdown",
   "metadata": {
    "slideshow": {
     "slide_type": "fragment"
    }
   },
   "source": [
    "A precise calculation of the equilibrium mole fraction of solution requires a solution of a set of equations, the equilibrium condition,\n",
    "\n",
    "$$\n",
    "K = Q_\\mathrm{equil} = \\frac{X^2_{H_2O}}{X^2_{H_2} X_{O_2}}\n",
    "$$\n",
    "\n",
    "and the conservation of the number of H and O atoms,\n",
    "\n",
    "$$\n",
    "n_\\mathrm{H} = 2 n_\\mathrm{H_2} + 2 n_\\mathrm{H_2O} \n",
    "$$\n",
    "\n",
    "$$\n",
    "n_\\mathrm{O} = 2 n_\\mathrm{O_2} + n_\\mathrm{H_2O}.\n",
    "$$"
   ]
  },
  {
   "cell_type": "code",
   "execution_count": 10,
   "metadata": {
    "slideshow": {
     "slide_type": "fragment"
    }
   },
   "outputs": [
    {
     "name": "stdout",
     "output_type": "stream",
     "text": [
      "Number of moles of H2:   9.497358001222012e-12 \n",
      "                   O2:   0.02500000000474876 \n",
      "                   H2O:  0.9699999999905026\n"
     ]
    }
   ],
   "source": [
    "# Number of moles of the various components, assuming a total amount of 1 mol in the system\n",
    "X_H2O = 0.96\n",
    "X_H2  = 0.01\n",
    "X_O2  = 0.03\n",
    "n_H = 2 * X_H2 + 2 * X_H2O\n",
    "n_O = 2 * X_O2 + X_H2O\n",
    "\n",
    "# Returns the difference in the moles of H atoms in the component minus original number of H atoms\n",
    "def Equations(p):\n",
    "    n_H2, n_O2, n_H2O = abs(p)\n",
    "    dH = 2 * n_H2 + 2 * n_H2O - n_H\n",
    "    dO = 2 * n_O2 + n_H2O - n_O\n",
    "    n_tot = n_H2 + n_O2 + n_H2O\n",
    "    X_H2, X_O2, X_H2O = [n_H2, n_O2, n_H2O] /n_tot\n",
    "    dQ = np.log(X_H2O**2/(X_H2**2 * X_O2)/ K.magnitude)\n",
    "    return [dH, dO, dQ]\n",
    "\n",
    "n_H2, n_O2, n_H2O = abs(fsolve(Equations, (1E-6, 0.02, 0.97), epsfcn = 1E-16, xtol = 1E-16))\n",
    "print (\"Number of moles of H2:  \", n_H2, \"\\n\",\n",
    "       \"                  O2:  \", n_O2, \"\\n\",\n",
    "       \"                  H2O: \", n_H2O)"
   ]
  },
  {
   "cell_type": "markdown",
   "metadata": {},
   "source": [
    "## Oxidation of Copper"
   ]
  },
  {
   "cell_type": "markdown",
   "metadata": {},
   "source": [
    "Consider the oxidation of copper.  There are three phases and (correspondingly) three components in this system:\n",
    "\n",
    "* Metallic copper ($\\alpha$)\n",
    "* The gas phase ($\\mathrm{g}$)\n",
    "* Cuprous oxide or copper(I)oxide $\\mathrm{Cu_2O}$\n",
    "* Cupric oxide or copper(II)oxide, $\\mathrm{CuO}$ ($\\epsilon$)"
   ]
  },
  {
   "cell_type": "markdown",
   "metadata": {},
   "source": [
    "At equilibrium the four phases are solutions:\n",
    "\n",
    "* some oxygen will dissolve in Cu\n",
    "* some Cu will evaporate into the gas phase\n",
    "* the two oxide phases will be non-stoichiometric\n",
    "* in the gas phase there may be monatomic oxygen and ozone\n",
    "* etc."
   ]
  },
  {
   "cell_type": "markdown",
   "metadata": {},
   "source": [
    "_In most practical applications_ we consider many fewer components than may be truly present.  We can eliminate components from consideration if we have independent observation that molar quantitites are negligable.  This makes the problem tractable with simple calculations (however some advanced thermodynamic software packages are already equipped to deal with many more components, the limitation is knowing what components have high activties)."
   ]
  },
  {
   "cell_type": "code",
   "execution_count": null,
   "metadata": {},
   "outputs": [],
   "source": []
  }
 ],
 "metadata": {
  "anaconda-cloud": {},
  "celltoolbar": "Slideshow",
  "kernelspec": {
   "display_name": "Python 3 (ipykernel)",
   "language": "python",
   "name": "python3"
  },
  "language_info": {
   "codemirror_mode": {
    "name": "ipython",
    "version": 3
   },
   "file_extension": ".py",
   "mimetype": "text/x-python",
   "name": "python",
   "nbconvert_exporter": "python",
   "pygments_lexer": "ipython3",
   "version": "3.8.12"
  }
 },
 "nbformat": 4,
 "nbformat_minor": 4
}
